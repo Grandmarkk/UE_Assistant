{
 "cells": [
  {
   "metadata": {},
   "cell_type": "markdown",
   "source": "#### Stackoverflow QA",
   "id": "fe27fe04dde386f5"
  },
  {
   "metadata": {
    "ExecuteTime": {
     "end_time": "2025-10-16T13:11:43.771954Z",
     "start_time": "2025-10-16T13:03:06.918992Z"
    }
   },
   "cell_type": "code",
   "source": [
    "from stackapi import StackAPI\n",
    "import json\n",
    "import time\n",
    "\n",
    "SITE = StackAPI('stackoverflow')\n",
    "SITE.page_size = 100\n",
    "SITE.max_pages = 50  # adjust based on how many you want\n",
    "SITE.sleep_between_requests = 1\n",
    "\n",
    "questions_data = []\n",
    "\n",
    "for question in SITE.fetch('questions', tagged='unreal-engine4;unreal-engine5', filter='withbody')['items']:\n",
    "    qid = question['question_id']\n",
    "    title = question['title']\n",
    "    body = question['body']\n",
    "    answers = []\n",
    "\n",
    "    try:\n",
    "        a = SITE.fetch(f'questions/{qid}/answers', filter='withbody')\n",
    "        for ans in a['items']:\n",
    "            answers.append(ans['body'])\n",
    "    except Exception as e:\n",
    "        print(f\"Error fetching answers for {qid}: {e}\")\n",
    "        continue\n",
    "\n",
    "    if answers:\n",
    "        questions_data.append({\n",
    "            \"question_id\": qid,\n",
    "            \"question\": title,\n",
    "            \"question_body\": body,\n",
    "            \"answers\": answers\n",
    "        })\n",
    "\n",
    "    time.sleep(0.5)  # prevent hitting rate limit\n",
    "\n",
    "# save to file\n",
    "with open('../data/ue_qa_raw.json', 'w', encoding='utf-8') as f:\n",
    "    json.dump(questions_data, f, indent=2, ensure_ascii=False)\n"
   ],
   "id": "4492a84f513f0188",
   "outputs": [],
   "execution_count": 22
  },
  {
   "metadata": {
    "ExecuteTime": {
     "end_time": "2025-10-16T13:31:25.602557Z",
     "start_time": "2025-10-16T13:31:25.520740Z"
    }
   },
   "cell_type": "code",
   "source": [
    "import json\n",
    "from bs4 import BeautifulSoup\n",
    "\n",
    "with open('../data/ue_qa_raw.json', 'r', encoding='utf-8') as f:\n",
    "    data = json.load(f)\n",
    "\n",
    "print(f\"Number of questions: {len(data)}\")\n",
    "\n",
    "dataset = []\n",
    "\n",
    "for item in data:\n",
    "    question = BeautifulSoup(item['question_body'], 'html.parser').get_text()\n",
    "    answers = [BeautifulSoup(a, 'html.parser').get_text() for a in item['answers']]\n",
    "\n",
    "    for ans in answers:\n",
    "        dataset.append({\n",
    "            \"instruction\": item['question'],\n",
    "            \"input\": question,\n",
    "            \"output\": ans\n",
    "        })\n",
    "\n",
    "with open('../data/ue_finetune_dataset.json', 'w', encoding='utf-8') as f:\n",
    "    f.write(json.dumps(dataset, indent=2, ensure_ascii=False))\n",
    "    \"\"\"for d in dataset:\n",
    "        f.write(json.dumps(d, ensure_ascii=False) + \"\\n\")\"\"\"\n"
   ],
   "id": "c51e751074848f71",
   "outputs": [
    {
     "name": "stdout",
     "output_type": "stream",
     "text": [
      "Number of questions: 135\n"
     ]
    }
   ],
   "execution_count": 23
  },
  {
   "metadata": {},
   "cell_type": "markdown",
   "source": "#### Parse UE documentation",
   "id": "1b2061e379516677"
  },
  {
   "metadata": {
    "collapsed": true,
    "ExecuteTime": {
     "end_time": "2025-10-15T08:46:17.598116Z",
     "start_time": "2025-10-15T08:46:17.592031Z"
    }
   },
   "cell_type": "code",
   "outputs": [],
   "execution_count": 6,
   "source": [
    "from bs4 import BeautifulSoup\n",
    "from pathlib import Path\n",
    "import json\n",
    "\n",
    "DOC_PATH = Path(\"/path/to/UnrealEngine/Engine/Documentation/HTML/en\")\n",
    "output = []\n",
    "\n",
    "for html_file in DOC_PATH.rglob(\"*.html\"):\n",
    "    try:\n",
    "        with open(html_file, \"r\", encoding=\"utf-8\", errors=\"ignore\") as f:\n",
    "            soup = BeautifulSoup(f, \"html.parser\")\n",
    "        title = soup.title.string if soup.title else html_file.stem\n",
    "        # Many Unreal docs wrap the actual text in <div class=\"doc-content\"> or <article>\n",
    "        article = soup.select_one(\".doc-content\") or soup.select_one(\"article\") or soup.body\n",
    "        text = article.get_text(separator=\"\\n\", strip=True) if article else \"\"\n",
    "        output.append({\"file\": str(html_file), \"title\": title, \"content\": text})\n",
    "        print(\"✅ Parsed\", html_file)\n",
    "    except Exception as e:\n",
    "        print(\"⚠️ Error\", html_file, e)\n",
    "\n",
    "with open(\"ue_docs_local.jsonl\", \"w\", encoding=\"utf-8\") as f:\n",
    "    for o in output:\n",
    "        f.write(json.dumps(o, ensure_ascii=False) + \"\\n\")\n",
    "    f.close()\n"
   ],
   "id": "7b573aa9c1028bb1"
  }
 ],
 "metadata": {
  "kernelspec": {
   "display_name": "Python 3",
   "language": "python",
   "name": "python3"
  },
  "language_info": {
   "codemirror_mode": {
    "name": "ipython",
    "version": 2
   },
   "file_extension": ".py",
   "mimetype": "text/x-python",
   "name": "python",
   "nbconvert_exporter": "python",
   "pygments_lexer": "ipython2",
   "version": "2.7.6"
  }
 },
 "nbformat": 4,
 "nbformat_minor": 5
}
